{
 "cells": [
  {
   "cell_type": "code",
   "execution_count": null,
   "metadata": {},
   "outputs": [],
   "source": [
    "#totl_old: 30149\n",
    "#succ_old: 30092\n",
    "#fail_old: 57\n",
    "\n",
    "#28762 total\n",
    "#28372 only names\n",
    "\n",
    "\n",
    "import portage\n",
    "portage.root\n",
    "p=portage.db[portage.root][\"porttree\"].dbapi\n",
    "cpv_lists = p.cpv_all()\n",
    "\n",
    "print(len(cpv_lists))\n",
    "\n",
    "#total: 28762\n",
    "#succ:  28721\n",
    "#fail:  41\n",
    "\n",
    "###read from file\n",
    "#read:  28721\n",
    "#succ:  28176\n",
    "#fail:  545 \n"
   ]
  },
  {
   "cell_type": "code",
   "execution_count": null,
   "metadata": {},
   "outputs": [],
   "source": []
  },
  {
   "cell_type": "code",
   "execution_count": 4,
   "metadata": {},
   "outputs": [
    {
     "name": "stderr",
     "output_type": "stream",
     "text": [
      "Building feature relations failed with error: Missing feature.\n",
      "Building feature relations failed with error: Missing feature.\n",
      "Building feature relations failed with error: Missing feature.\n",
      "Building feature relations failed with error: Missing feature.\n",
      "Building feature relations failed with error: Missing feature.\n",
      "Building feature relations failed with error: Missing feature.\n",
      "Building feature relations failed with error: Missing feature.\n",
      "Building feature relations failed with error: Missing feature.\n",
      "Building feature relations failed with error: Missing feature.\n",
      "Building feature relations failed with error: Missing feature.\n",
      "Building feature relations failed with error: Missing feature.\n",
      "Building feature relations failed with error: Missing feature.\n",
      "Building feature relations failed with error: Missing feature.\n",
      "Building feature relations failed with error: Missing feature.\n",
      "Building feature relations failed with error: Missing feature.\n",
      "Building feature relations failed with error: Missing feature.\n",
      "Building feature relations failed with error: Missing feature.\n"
     ]
    },
    {
     "name": "stdout",
     "output_type": "stream",
     "text": [
      "total: 28762\n",
      "succ: 28721\n",
      "fail: 41\n"
     ]
    }
   ],
   "source": [
    "import portage\n",
    "import gc \n",
    "\n",
    "from gentoo_feature_modeling import *\n",
    "\n",
    "\n",
    "portage.root\n",
    "p=portage.db[portage.root][\"porttree\"].dbapi\n",
    "cpv_lists = p.cpv_all()\n",
    "\n",
    "total=0\n",
    "succ = 0\n",
    "fail = 0 \n",
    "\n",
    "for cpv in cpv_lists :\n",
    "    useflagslist = p.aux_get(cpv, [\"KEYWORDS\", \"REQUIRED_USE\", \"IUSE\"])\n",
    "    #keywordlist = str(useflagslist[0])\n",
    "    reqUse = str(useflagslist[1])\n",
    "    useflagStr = str(useflagslist[2])\n",
    "    #cpv = cpv.split(\"/\")[1]\n",
    "    packageName = cpv.replace(\"/\",\"__\").replace(\".\", \"_\") #.replace(\"-\", \"_\")\n",
    "    #packageName = cpv\n",
    "\n",
    "    gfm = gentoo_feature_modeling()\n",
    "    \n",
    "    total = total +1 \n",
    "    try:\n",
    "        fm, packageName = gfm.createFeatureModel(packageName, reqUse, useflagStr)\n",
    "        try:   \n",
    "        #### write to files\n",
    "            writer = vf.fm_writer.FeatureModelXmlWriter(fm)\n",
    "            writer.write_feature_model_to_file(packageName+\".xml\")\n",
    "            succ = succ + 1\n",
    "        except:\n",
    "            #print(packageName, \" failed while writing xml \")\n",
    "            fail = fail +1\n",
    "    except Exception as e:\n",
    "        #print(packageName, \" failed in creation: \" )\n",
    "        fail = fail +1\n",
    "\n",
    "print(\"total: \" + str(total))\n",
    "print(\"succ: \" + str(succ))\n",
    "print(\"fail: \" + str(fail))\n"
   ]
  },
  {
   "cell_type": "code",
   "execution_count": null,
   "metadata": {},
   "outputs": [],
   "source": []
  },
  {
   "cell_type": "code",
   "execution_count": null,
   "metadata": {},
   "outputs": [],
   "source": []
  },
  {
   "cell_type": "code",
   "execution_count": null,
   "metadata": {},
   "outputs": [],
   "source": [
    "########## getting individual values \n",
    "import portage\n",
    "import nest_asyncio\n",
    "nest_asyncio.apply()\n",
    "\n",
    "\n",
    "portage.root\n",
    "p=portage.db[portage.root][\"porttree\"].dbapi\n",
    "cpv_lists = p.cpv_all()\n",
    "\n",
    "for cpv in cpv_lists :\n",
    "    useflagslist    = p.aux_get(cpv, [\"KEYWORDS\", \"REQUIRED_USE\", \"IUSE\"])\n",
    "    #keywordlist    = str(useflagslist[0])\n",
    "    reqUse          = str(useflagslist[1])\n",
    "    useflagStr      = str(useflagslist[2])\n",
    "    #cpv             = cpv.split(\"/\")[1]\n",
    "    #packageName     = cpv.replace(\".\", \"_\").replace(\"-\", \"_\")\n",
    "    packageName     = cpv.replace(\"/\",\"__\").replace(\".\", \"_\") #.replace(\"-\", \"_\")\n",
    "\n",
    "    if packageName == \"app-accessibility__brltty-6_5-r2\":\n",
    "        print(reqUse)\n",
    "        print(\"\\n\\n\")\n",
    "        print(useflagStr)\n",
    "\n"
   ]
  },
  {
   "cell_type": "code",
   "execution_count": null,
   "metadata": {},
   "outputs": [],
   "source": []
  },
  {
   "cell_type": "code",
   "execution_count": 1,
   "metadata": {},
   "outputs": [
    {
     "name": "stderr",
     "output_type": "stream",
     "text": [
      "Writing '/tmp/FeatureModel-FeatureModel-098c3f.dot'...  done. \n",
      "Trying 'xdg-open' program... Remember to erase graph file: /tmp/FeatureModel-FeatureModel-098c3f.dot\n"
     ]
    },
    {
     "name": "stderr",
     "output_type": "stream",
     "text": [
      "kf.service.services: KApplicationTrader: mimeType \"x-scheme-handler/file\" not found\n",
      "kf.service.services: KApplicationTrader: mimeType \"x-scheme-handler/file\" not found\n"
     ]
    }
   ],
   "source": [
    "########## testing individual \n",
    "\n",
    "from gentoo_feature_modeling import *\n",
    "\n",
    "reqUse = \"map? ( exif ) python? ( ^^ ( python_single_target_python3_10 python_single_target_python3_11 ) )\"\n",
    "useflagStr_with_defaults = \"+exif map +python test python_single_target_python3_10 python_single_target_python3_11\"\n",
    "packageName = \"eog_plugins_44_0_r1\"\n",
    "\n",
    "\n",
    "reqUse = \"|| ( amdgpu_targets_gfx906 amdgpu_targets_gfx908 amdgpu_targets_gfx90a amdgpu_targets_gfx1030 amdgpu_targets_gfx803 amdgpu_targets_gfx900 amdgpu_targets_gfx1010 amdgpu_targets_gfx1011 amdgpu_targets_gfx1012 amdgpu_targets_gfx1031 )\"\n",
    "useflagStr_with_defaults = \"benchmark test +amdgpu_targets_gfx906 +amdgpu_targets_gfx908 +amdgpu_targets_gfx90a +amdgpu_targets_gfx1030 amdgpu_targets_gfx803 amdgpu_targets_gfx900 amdgpu_targets_gfx1010 amdgpu_targets_gfx1011 amdgpu_targets_gfx1012 amdgpu_targets_gfx1031\"\n",
    "packageName = \"sci-libs__rocThrust-5_1_3\"\n",
    "\n",
    "reqUse = \"doc? ( api ) java? ( api ) ocaml? ( api ) python? ( api || ( python_targets_python3_10 python_targets_python3_11 ) ) tcl? ( api )\"\n",
    "useflagStr_with_defaults = \"+api +beeper bluetooth doc +fm gpm iconv icu java louis +midi ncurses nls ocaml +pcm policykit python usb systemd +speech tcl xml X +ocamlopt java python_targets_python3_10 python_targets_python3_11\"\n",
    "packageName = \"app-accessibility__brltty-6_5-r2\"\n",
    "\n",
    "\n",
    "gfm = gentoo_feature_modeling()\n",
    "fm, packageName = gfm.createFeatureModel(packageName, reqUse, useflagStr_with_defaults)\n",
    "#data = gfm.getDetails(packageName, reqUse, useflagStr)\n",
    "#print(gfm.returnDefault(useflagStr))\n",
    "\n",
    "fm.view()\n"
   ]
  },
  {
   "cell_type": "code",
   "execution_count": 2,
   "metadata": {},
   "outputs": [
    {
     "data": {
      "text/plain": [
       "9583"
      ]
     },
     "execution_count": 2,
     "metadata": {},
     "output_type": "execute_result"
    }
   ],
   "source": [
    "\n",
    "len(vf.configuration.getAllConfigs(fm))\n",
    "\n"
   ]
  },
  {
   "cell_type": "code",
   "execution_count": null,
   "metadata": {},
   "outputs": [],
   "source": [
    "writer = vf.fm_writer.FeatureModelXmlWriter(fm)\n",
    "writer.write_feature_model_to_file(packageName+\".xml\")"
   ]
  },
  {
   "cell_type": "code",
   "execution_count": null,
   "metadata": {},
   "outputs": [],
   "source": []
  },
  {
   "cell_type": "code",
   "execution_count": null,
   "metadata": {},
   "outputs": [],
   "source": [
    "import os \n",
    "import json \n",
    "\n",
    "directory = '/home/sam/thesis/xml2/'\n",
    "count = 0\n",
    "succ = 0\n",
    "fail = 0\n",
    "\n",
    "for path in os.listdir(directory):\n",
    "    count = count + 1\n",
    "    if os.path.isfile(os.path.join(directory, path)) and str(os.path.join(directory, path)).endswith(\".xml\"):\n",
    "        if vf.feature_model.verifyFeatureModel(os.path.join(directory, path)) == True:\n",
    "            succ +=1\n",
    "        else:\n",
    "            print(os.path.join(directory, path) , \" failed\")\n",
    "            fail+=1\n",
    "\n",
    "print(count)\n",
    "print(succ)\n",
    "print(fail)\n"
   ]
  },
  {
   "cell_type": "code",
   "execution_count": null,
   "metadata": {},
   "outputs": [],
   "source": [
    "vf.feature_model.loadFeatureModel(\"Type_Tiny_XS_0_25_0.xml\")\n"
   ]
  }
 ],
 "metadata": {
  "kernelspec": {
   "display_name": "Python 3.10.8 64-bit",
   "language": "python",
   "name": "python3"
  },
  "language_info": {
   "codemirror_mode": {
    "name": "ipython",
    "version": 3
   },
   "file_extension": ".py",
   "mimetype": "text/x-python",
   "name": "python",
   "nbconvert_exporter": "python",
   "pygments_lexer": "ipython3",
   "version": "3.10.8"
  },
  "orig_nbformat": 4,
  "vscode": {
   "interpreter": {
    "hash": "8a94588eda9d64d9e9a351ab8144e55b1fabf5113b54e67dd26a8c27df0381b3"
   }
  }
 },
 "nbformat": 4,
 "nbformat_minor": 2
}
