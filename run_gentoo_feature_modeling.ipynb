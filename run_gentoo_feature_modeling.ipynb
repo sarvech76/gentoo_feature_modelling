{
 "cells": [
  {
   "cell_type": "code",
   "execution_count": null,
   "metadata": {},
   "outputs": [],
   "source": [
    "#import all the stuff\n",
    "import portage\n",
    "from gentoo_feature_modeling import *\n",
    "\n",
    "#initialize the portage root tree for accessing the package information\n",
    "portage.root\n",
    "p=portage.db[portage.root][\"porttree\"].dbapi\n",
    "\n",
    "#list that contains all the packages in the eBuild repository\n",
    "cpv_lists = p.cpv_all()\n"
   ]
  },
  {
   "cell_type": "code",
   "execution_count": null,
   "metadata": {},
   "outputs": [],
   "source": [
    "\n",
    "#iterate over all the pacakges and create feature models\n",
    "for cpv in cpv_lists :\n",
    "    #extract the need variables\n",
    "    useflagslist = p.aux_get(cpv, [\"REQUIRED_USE\", \"IUSE\"])\n",
    "        \n",
    "    reqUse = str(useflagslist[0])\n",
    "    useflagStr = str(useflagslist[1])\n",
    "    \n",
    "    #extract the name of the package from the entire cpv name\n",
    "    packageName = cpv.replace(\"/\", \"__\").replace(\".\", \"_\")\n",
    "\n",
    "    #initialize the class object\n",
    "    gfm = gentoo_feature_modeling()\n",
    "\n",
    "    #create feature model, else throw error\n",
    "    try:\n",
    "        fm, packageName = gfm.createFeatureModel(packageName, reqUse, useflagStr)\n",
    "        \n",
    "        # commented code to write to file\n",
    "        \"\"\"\n",
    "        try:   \n",
    "            writer = vf.fm_writer.FeatureModelXmlWriter(fm)\n",
    "            writer.write_feature_model_to_file(packageName+\".xml\")\n",
    "            succ = succ + 1\n",
    "        except:\n",
    "            print(packageName, \" failed while writing xml \")\n",
    "        \"\"\"\n",
    "        \n",
    "    except Exception as e:\n",
    "        print(packageName, \" failed in creation: \" + str(e))\n",
    "\n",
    "    \n",
    "    #getDetails function, returns the data\n",
    "    #data = gfm.getDetails(packageName, reqUse, useflagStr)\n",
    "\n"
   ]
  },
  {
   "cell_type": "code",
   "execution_count": null,
   "metadata": {},
   "outputs": [],
   "source": [
    "#simple script to verify the feature model created\n",
    "#by reading an XML file\n",
    "import os \n",
    "import json \n",
    "\n",
    "directory = '/home/user/xml/'\n",
    "\n",
    "for path in os.listdir(directory):\n",
    "    if os.path.isfile(os.path.join(directory, path)) and str(os.path.join(directory, path)).endswith(\".xml\"):\n",
    "        if vf.feature_model.verifyFeatureModel(os.path.join(directory, path)) == True:\n",
    "            print(os.path.join(directory, path) , \" passed\")\n",
    "        else:\n",
    "            print(os.path.join(directory, path) , \" failed\")"
   ]
  }
 ],
 "metadata": {
  "kernelspec": {
   "display_name": "Python 3.10.8 64-bit",
   "language": "python",
   "name": "python3"
  },
  "language_info": {
   "codemirror_mode": {
    "name": "ipython",
    "version": 3
   },
   "file_extension": ".py",
   "mimetype": "text/x-python",
   "name": "python",
   "nbconvert_exporter": "python",
   "pygments_lexer": "ipython3",
   "version": "3.10.8"
  },
  "orig_nbformat": 4,
  "vscode": {
   "interpreter": {
    "hash": "8a94588eda9d64d9e9a351ab8144e55b1fabf5113b54e67dd26a8c27df0381b3"
   }
  }
 },
 "nbformat": 4,
 "nbformat_minor": 2
}
